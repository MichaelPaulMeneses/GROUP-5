{
  "nbformat": 4,
  "nbformat_minor": 0,
  "metadata": {
    "colab": {
      "provenance": [],
      "authorship_tag": "ABX9TyMXIwri3RqoIzGp/+24xSeI",
      "include_colab_link": true
    },
    "kernelspec": {
      "name": "python3",
      "display_name": "Python 3"
    },
    "language_info": {
      "name": "python"
    }
  },
  "cells": [
    {
      "cell_type": "markdown",
      "metadata": {
        "id": "view-in-github",
        "colab_type": "text"
      },
      "source": [
        "<a href=\"https://colab.research.google.com/github/MichaelPaulMeneses/GROUP-5/blob/main/DSA_LAB_ACTIVITY_3.ipynb\" target=\"_parent\"><img src=\"https://colab.research.google.com/assets/colab-badge.svg\" alt=\"Open In Colab\"/></a>"
      ]
    },
    {
      "cell_type": "markdown",
      "source": [
        "Write a program that can perform the Caesar cipher for English messages that include both upper- and lowercase characters."
      ],
      "metadata": {
        "id": "PjLdEs2LdE-e"
      }
    },
    {
      "cell_type": "code",
      "execution_count": 13,
      "metadata": {
        "colab": {
          "base_uri": "https://localhost:8080/"
        },
        "id": "wCt7JraNXycu",
        "outputId": "8bc8ab9a-4e37-47b4-da3c-448a7a168d9c"
      },
      "outputs": [
        {
          "output_type": "stream",
          "name": "stdout",
          "text": [
            "Text  : The message on the card said 'Be my Valentine'\n",
            "Cesear Cipher: XlirqiwwekirsrrxlirgevhrwemhryFirqcrZepirxmriy\n"
          ]
        }
      ],
      "source": [
        "def encrypt(text,s):\n",
        "    result = \"\"\n",
        " \n",
        "    # traverse text\n",
        "    for i in range(len(text)):\n",
        "        char = text[i]\n",
        " \n",
        "        # Encrypt uppercase characters\n",
        "        if (char.isupper()):\n",
        "            result += chr((ord(char) + s-65) % 26 + 65)\n",
        " \n",
        "        # Encrypt lowercase characters\n",
        "        else:\n",
        "            result += chr((ord(char) + s - 97) % 26 + 97)\n",
        " \n",
        "    return result\n",
        " \n",
        "#check the above function\n",
        "text = \"The message on the card said 'Be my Valentine'\"\n",
        "\n",
        "print (\"Text  : \" + text)\n",
        "print (\"Cesear Cipher: \" + encrypt(text,s))"
      ]
    }
  ]
}