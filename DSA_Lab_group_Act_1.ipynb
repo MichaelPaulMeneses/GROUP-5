{
  "nbformat": 4,
  "nbformat_minor": 0,
  "metadata": {
    "colab": {
      "provenance": [],
      "authorship_tag": "ABX9TyO6QdqCs72JAghHWtKb+5cH",
      "include_colab_link": true
    },
    "kernelspec": {
      "name": "python3",
      "display_name": "Python 3"
    },
    "language_info": {
      "name": "python"
    }
  },
  "cells": [
    {
      "cell_type": "markdown",
      "metadata": {
        "id": "view-in-github",
        "colab_type": "text"
      },
      "source": [
        "<a href=\"https://colab.research.google.com/github/MichaelPaulMeneses/GROUP-5/blob/main/DSA_Lab_group_Act_1.ipynb\" target=\"_parent\"><img src=\"https://colab.research.google.com/assets/colab-badge.svg\" alt=\"Open In Colab\"/></a>"
      ]
    },
    {
      "cell_type": "code",
      "source": [
        "class Polygon:\n",
        "  def __init__(self,side,name):\n",
        "    self.side = side\n",
        "    self.name = name\n",
        "  def Area(self):\n",
        "    return self.side*self.side\n",
        "\n",
        "print(\"Name of Polygon: \", \"Pentagon\")\n",
        "print(\"Sides of Pentagon: \", 5)\n",
        "  \n",
        "b = int(input(\"Input the base : \"))\n",
        "h = int(input(\"Input the height : \"))\n",
        "\n",
        "area = b*h\n",
        "\n",
        "print(\"Area of Pentagon =\", area)"
      ],
      "metadata": {
        "colab": {
          "base_uri": "https://localhost:8080/"
        },
        "id": "WUgjTW6Rcm67",
        "outputId": "b37317a9-4b07-4fd7-acc5-4f549992f767"
      },
      "execution_count": 107,
      "outputs": [
        {
          "output_type": "stream",
          "name": "stdout",
          "text": [
            "Name of Polygon:  Pentagon\n",
            "Sides of Pentagon:  5\n",
            "Input the base : 5\n",
            "Input the height : 5\n",
            "Area of Pentagon = 25\n"
          ]
        }
      ]
    }
  ]
}