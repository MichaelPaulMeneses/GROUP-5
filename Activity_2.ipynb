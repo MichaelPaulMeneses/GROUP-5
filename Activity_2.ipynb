{
  "nbformat": 4,
  "nbformat_minor": 0,
  "metadata": {
    "colab": {
      "provenance": [],
      "authorship_tag": "ABX9TyNyaGbkWC6wrAzWbNoqP63K",
      "include_colab_link": true
    },
    "kernelspec": {
      "name": "python3",
      "display_name": "Python 3"
    },
    "language_info": {
      "name": "python"
    }
  },
  "cells": [
    {
      "cell_type": "markdown",
      "metadata": {
        "id": "view-in-github",
        "colab_type": "text"
      },
      "source": [
        "<a href=\"https://colab.research.google.com/github/MichaelPaulMeneses/GROUP-5/blob/main/Activity_2.ipynb\" target=\"_parent\"><img src=\"https://colab.research.google.com/assets/colab-badge.svg\" alt=\"Open In Colab\"/></a>"
      ]
    },
    {
      "cell_type": "markdown",
      "source": [
        "C.\tWrite a short recursive Python function that finds the minimum and maximum values in a sequence without using any loops"
      ],
      "metadata": {
        "id": "U5bT0OFY2rWk"
      }
    },
    {
      "cell_type": "code",
      "execution_count": 13,
      "metadata": {
        "colab": {
          "base_uri": "https://localhost:8080/"
        },
        "id": "LhiXKWLU2pFB",
        "outputId": "39d5ea88-8516-4880-d1d0-5d4b8436fed4"
      },
      "outputs": [
        {
          "output_type": "stream",
          "name": "stdout",
          "text": [
            "6\n",
            "12\n"
          ]
        }
      ],
      "source": [
        "def recursiveMin(data):\n",
        "  if len(data) == 0:\n",
        "    return None\n",
        "  if len(data) == 1:\n",
        "    return data[0]\n",
        "  return min(data[0], recursiveMin(data[1:]))\n",
        "\n",
        "def recursiveMax(data):\n",
        "  if len(data) == 0:\n",
        "    return None\n",
        "  if len(data) == 1:\n",
        "    return data[0]\n",
        "  return max(data[0], recursiveMax(data[1:]))\n",
        "\n",
        "\n",
        "print(recursiveMin([6, 7, 8, 9, 10, 11, 12]))\n",
        "print(recursiveMax([6, 7, 8, 9, 10, 11, 12]))"
      ]
    }
  ]
}